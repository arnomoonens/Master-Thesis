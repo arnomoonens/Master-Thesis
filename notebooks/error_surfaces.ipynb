{
 "cells": [
  {
   "cell_type": "markdown",
   "execution_count": null,
   "metadata": {},
   "source": [
    "# Error surfaces"
   ]
  },
  {
   "cell_type": "code",
   "execution_count": null,
   "metadata": {
    "collapsed": true
   },
   "outputs": [],
   "source": [
    "import numpy as np\n",
    "import matplotlib.pyplot as plt\n",
    "from mpl_toolkits.mplot3d import Axes3D\n",
    "from matplotlib import cm\n",
    "%matplotlib inline"
   ]
  },
  {
   "cell_type": "markdown",
   "execution_count": null,
   "metadata": {},
   "source": [
    "## 3D surface"
   ]
  },
  {
   "cell_type": "code",
   "execution_count": null,
   "metadata": {
    "collapsed": false
   },
   "outputs": [],
   "source": [
    "fig = plt.figure()\n",
    "\n",
    "ax = fig.gca(projection='3d')\n",
    "X = np.arange(-3.0, 3.0, 0.01)\n",
    "Y = np.arange(-3.0, 3.0, 0.01)\n",
    "X, Y = np.meshgrid(X, Y)\n",
    "\n",
    "#Z = np.sin(.5 * X**2 - .25 * Y**2 + 3 * np.ones_like(X)) * np.cos(2 * X + np.ones_like(X))\n",
    "Z = np.sin(X) + np.cos(-2*X) - np.tanh(X - 2) + np.sin(Y) + np.cos(-4*Y) - np.tanh(Y - 4)\n",
    "surf = ax.plot_surface(X, Y, Z, rstride=5, cstride=5, cmap=cm.coolwarm,\n",
    "                       linewidth=0, antialiased=False)\n",
    "ax.set_zlim(-1.01, 4.01)\n",
    "ax.set_facecolor('white')\n",
    "ax.set_zlabel('$E(\\overrightarrow{w})$')\n",
    "ax.set_xlabel('$w_0$')\n",
    "ax.set_ylabel('$w_1$')\n",
    "ax.tick_params(axis='both', which='both', bottom='off',\n",
    "               labelbottom='off', right='off', left='off', labelleft='off')\n",
    "ax.view_init(elev=40, azim=100)\n",
    "#ax.set_xticks([])\n",
    "#ax.set_yticks([])\n",
    "#ax.set_zticks([])"
   ]
  },
  {
   "cell_type": "markdown",
   "execution_count": null,
   "metadata": {},
   "source": [
    "## 2D surface"
   ]
  },
  {
   "cell_type": "code",
   "execution_count": null,
   "metadata": {
    "collapsed": false
   },
   "outputs": [],
   "source": [
    "fig = plt.figure()\n",
    "ax = fig.add_subplot(111)\n",
    "\n",
    "X = np.arange(-7.0,7.0,0.05)\n",
    "Y = np.sin(X) + np.cos(-2*X) - np.tanh(X - 2) + 3.5\n",
    "ax.set_xlim(-7.0,7.0)\n",
    "ax.set_ylim(0,6)\n",
    "ax.plot(X,Y)\n",
    "ax.set_xlabel(\"$w_0$\")\n",
    "ax.set_ylabel('$E(\\overrightarrow{w})$')\n",
    "\n",
    "alphabet=\"ABCDEFGHIJKLMNOPQRSTUVWXYZ\"\n",
    "minima_indices = 1 + np.where((Y[1:-1] < Y[2:]) & (Y[1:-1] < Y[:-2]))[0]\n",
    "scatter_X = X[minima_indices]-0.15\n",
    "scatter_Y = Y[minima_indices]+0.15\n",
    "for i, text in enumerate(alphabet[:len(scatter_X)]):\n",
    "    ax.annotate(text, xy=(scatter_X[i], scatter_Y[i]))"
   ]
  },
  {
   "cell_type": "code",
   "execution_count": null,
   "metadata": {
    "collapsed": false
   },
   "outputs": [],
   "source": []
  },
  {
   "cell_type": "code",
   "execution_count": null,
   "metadata": {
    "collapsed": false
   },
   "outputs": [],
   "source": [
    "(a[1:] < a[:-1])[:-1] and (a[:-1] < a[1:])[1:]"
   ]
  },
  {
   "cell_type": "code",
   "execution_count": null,
   "metadata": {
    "collapsed": false
   },
   "outputs": [],
   "source": [
    "(a[1:-1] < a[2:]) & (a[1:-1] < a[:-2])"
   ]
  },
  {
   "cell_type": "code",
   "execution_count": null,
   "metadata": {
    "collapsed": false
   },
   "outputs": [],
   "source": [
    "np.where((Y[1:-1] < Y[2:]) & (Y[1:-1] < Y[:-2]))[0]"
   ]
  },
  {
   "cell_type": "code",
   "execution_count": null,
   "metadata": {
    "collapsed": true
   },
   "outputs": [],
   "source": []
  }
 ],
 "metadata": {
  "anaconda-cloud": {},
  "git": {
   "suppress_outputs": true
  },
  "kernelspec": {
   "display_name": "Python [conda env:thesis]",
   "language": "python",
   "name": "conda-env-thesis-py"
  },
  "language_info": {
   "codemirror_mode": {
    "name": "ipython",
    "version": 3
   },
   "file_extension": ".py",
   "mimetype": "text/x-python",
   "name": "python",
   "nbconvert_exporter": "python",
   "pygments_lexer": "ipython3",
   "version": "3.5.2"
  }
 },
 "nbformat": 4,
 "nbformat_minor": 1
}